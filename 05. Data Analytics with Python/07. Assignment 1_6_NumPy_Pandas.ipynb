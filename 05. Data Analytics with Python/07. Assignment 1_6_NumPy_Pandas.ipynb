{
 "cells": [
  {
   "cell_type": "markdown",
   "metadata": {
    "id": "M4m1gkNTq7-1"
   },
   "source": [
    "### **1. Print \"+\"**\n",
    "\n",
    "**Description:**\n",
    "Given a single positive odd integer 'n' greater than 2, create a NumPy array of size (n x n) with all zeros and ones such that the ones make a shape like '+'. The lines of the plus must be present at the middle row and column.\n",
    "Hint: Start by creating a (n x n) array with all zeroes using the np.zeros() function and then fill in the ones at the appropriate indices. Use integer division (//) to access the middle rows and columns\n",
    "\n",
    "**Examples:**\n",
    "Input 1:\n",
    "3\n",
    "Output 1:\n",
    "\n",
    "```\n",
    "[[0 1 0]\n",
    " [1 1 1]\n",
    " [0 1 0]]\n",
    "```\n",
    "\n",
    "Input 2:\n",
    "5\n",
    "Output 1:\n",
    "\n",
    "```\n",
    "[[0 0 1 0 0]\n",
    " [0 0 1 0 0]\n",
    " [1 1 1 1 1]\n",
    " [0 0 1 0 0]\n",
    " [0 0 1 0 0]]\n",
    "```\n",
    "\n",
    "**Explanation:** Notice that the 1s in the arrays make a shape like '+'.\n"
   ]
  },
  {
   "cell_type": "code",
   "execution_count": 4,
   "metadata": {},
   "outputs": [],
   "source": [
    "import numpy as np\n",
    "import pandas as pd"
   ]
  },
  {
   "cell_type": "code",
   "execution_count": 2,
   "metadata": {
    "id": "ZBokgHn9rXos"
   },
   "outputs": [
    {
     "name": "stdout",
     "output_type": "stream",
     "text": [
      "Enter a positive odd integer greater than 2: 5\n",
      "[[0 0 1 0 0]\n",
      " [0 0 1 0 0]\n",
      " [1 1 1 1 1]\n",
      " [0 0 1 0 0]\n",
      " [0 0 1 0 0]]\n"
     ]
    }
   ],
   "source": [
    "# Write your code here\n",
    "\n",
    "# Get input value of n\n",
    "n = int(input(\"Enter a positive odd integer greater than 2: \"))\n",
    "\n",
    "# Create an (n x n) array of zeros\n",
    "arr = np.zeros((n, n), dtype=int)\n",
    "\n",
    "# Fill in the ones at the appropriate indices to make a '+'\n",
    "mid = n // 2  # middle row and column\n",
    "arr[mid, :] = 1  # fill in the middle row with 1's\n",
    "arr[:, mid] = 1  # fill in the middle column with 1's\n",
    "\n",
    "# Print the resulting array\n",
    "print(arr)"
   ]
  },
  {
   "cell_type": "markdown",
   "metadata": {
    "id": "XZDrxflPrk8U"
   },
   "source": [
    "### **2. Weight Loss**\n",
    "\n",
    "**Description:** With your 25th birthday fast approaching, you decide to get in shape and lose some weight. You record your weight every day for five weeks starting on a Monday.\n",
    "\n",
    "```\n",
    "import numpy as np\n",
    "\n",
    "weights = 175 - np.arange(5*7)/5\n",
    "print(weights)\n",
    "```\n",
    "\n",
    "Given these daily weights, build an array with your average weight per weekend\n",
    "\n"
   ]
  },
  {
   "cell_type": "code",
   "execution_count": 3,
   "metadata": {
    "id": "tC0hI0IdtC6W"
   },
   "outputs": [
    {
     "name": "stdout",
     "output_type": "stream",
     "text": [
      "[173.9 172.5 171.1 169.7 168.3]\n"
     ]
    }
   ],
   "source": [
    "# Write your code here\n",
    "\n",
    "# Generate the daily weights for five weeks starting on a Monday\n",
    "weights = 175 - np.arange(5*7)/5\n",
    "weights = weights.reshape((5, 7))\n",
    "\n",
    "# Calculate the average weight per weekend\n",
    "weekend_avg = np.mean(weights[:, 5:], axis=1)\n",
    "\n",
    "# Print the resulting array of average weight per weekend\n",
    "print(weekend_avg)"
   ]
  },
  {
   "cell_type": "markdown",
   "metadata": {
    "id": "UDFDypAVsEL_"
   },
   "source": [
    "### **3. Gaming Nicks**\n",
    "\n",
    "**Description:** You want to start playing a first person shooter game and you are confused to find a gaming nick for yourself, hence you asked your friends and you’ve compiled the names into a Series called nicks.\n",
    "import numpy as np\n",
    "import pandas as pd\n",
    "\n",
    "\n",
    "\n",
    "```\n",
    "nicks = pd.Series([\n",
    "    'Pik', 'Devine99', 'Spawn', 'Prodigy', 'Superkiller420', 'Pik', 'tornado',\n",
    "    'tornado', 'roger', 'Gabriel', 'Chad', 'Ryan', 'Phoenix', 'Phoenix', 'Phoenix',\n",
    "    'Phoenix', 'Zeltron', 'Ryan', 'Ruger', 'Ruger', 'roger',\n",
    "    'roger', 'Chad', 'Chad', 'Gabriel'], dtype='string')\n",
    "```\n",
    "\n",
    "Determine how many people voted for the names ‘Phoenix’, ‘roger’, and ‘Pik’.\n"
   ]
  },
  {
   "cell_type": "code",
   "execution_count": 5,
   "metadata": {
    "id": "mnGi9MxYsakP"
   },
   "outputs": [
    {
     "name": "stdout",
     "output_type": "stream",
     "text": [
      "Number of votes for Phoenix: 4\n",
      "Number of votes for roger: 3\n",
      "Number of votes for Pik: 2\n"
     ]
    }
   ],
   "source": [
    "# Write your code here\n",
    "\n",
    "# Define the nicks Series\n",
    "nicks = pd.Series([\n",
    "    'Pik', 'Devine99', 'Spawn', 'Prodigy', 'Superkiller420', 'Pik', 'tornado',\n",
    "    'tornado', 'roger', 'Gabriel', 'Chad', 'Ryan', 'Phoenix', 'Phoenix', 'Phoenix',\n",
    "    'Phoenix', 'Zeltron', 'Ryan', 'Ruger', 'Ruger', 'roger',\n",
    "    'roger', 'Chad', 'Chad', 'Gabriel'], dtype='string')\n",
    "\n",
    "# Count the number of votes for each name\n",
    "counts = nicks.value_counts()\n",
    "\n",
    "# Retrieve the count for each name we are interested in\n",
    "phoenix_count = counts['Phoenix']\n",
    "roger_count = counts['roger']\n",
    "pik_count = counts['Pik']\n",
    "\n",
    "# Print the counts for each name\n",
    "print(f\"Number of votes for Phoenix: {phoenix_count}\")\n",
    "print(f\"Number of votes for roger: {roger_count}\")\n",
    "print(f\"Number of votes for Pik: {pik_count}\")"
   ]
  }
 ],
 "metadata": {
  "colab": {
   "provenance": []
  },
  "kernelspec": {
   "display_name": "Python 3",
   "language": "python",
   "name": "python3"
  },
  "language_info": {
   "codemirror_mode": {
    "name": "ipython",
    "version": 3
   },
   "file_extension": ".py",
   "mimetype": "text/x-python",
   "name": "python",
   "nbconvert_exporter": "python",
   "pygments_lexer": "ipython3",
   "version": "3.8.5"
  }
 },
 "nbformat": 4,
 "nbformat_minor": 1
}
